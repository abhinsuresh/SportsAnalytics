{
 "cells": [
  {
   "cell_type": "code",
   "execution_count": 0,
   "metadata": {
    "application/vnd.databricks.v1+cell": {
     "cellMetadata": {
      "byteLimit": 2048000,
      "rowLimit": 10000
     },
     "inputWidgets": {},
     "nuid": "e69b71e7-7876-4021-a3a2-cf7729e308de",
     "showTitle": false,
     "tableResultSettingsMap": {},
     "title": ""
    }
   },
   "outputs": [],
   "source": [
    "import pandas as pd\n",
    "import io\n",
    "import glob"
   ]
  },
  {
   "cell_type": "code",
   "execution_count": 0,
   "metadata": {
    "application/vnd.databricks.v1+cell": {
     "cellMetadata": {
      "byteLimit": 2048000,
      "rowLimit": 10000
     },
     "inputWidgets": {},
     "nuid": "81d3ed5c-5f8b-43cd-901c-8b62f791394d",
     "showTitle": false,
     "tableResultSettingsMap": {},
     "title": ""
    }
   },
   "outputs": [],
   "source": [
    "#wont work\n",
    "check = pd.read_csv(\"/Volumes/workspace/default/sports/20240301-AllenField-1.csv\")\n",
    "#display(df)\n",
    "csv_files = glob.glob(\"/Volumes/workspace/default/sports/*.csv\")\n",
    "print(csv_files)\n",
    "#pwd"
   ]
  },
  {
   "cell_type": "code",
   "execution_count": 0,
   "metadata": {
    "application/vnd.databricks.v1+cell": {
     "cellMetadata": {
      "byteLimit": 2048000,
      "rowLimit": 10000
     },
     "inputWidgets": {},
     "nuid": "7903cd1e-fffc-4468-8fbc-3a4dff52d2f2",
     "showTitle": false,
     "tableResultSettingsMap": {},
     "title": ""
    }
   },
   "outputs": [],
   "source": [
    "df_spark = spark.read.csv(\"/Volumes/workspace/default/sports/*.csv\", inferSchema=True, header=True)"
   ]
  },
  {
   "cell_type": "code",
   "execution_count": 0,
   "metadata": {
    "application/vnd.databricks.v1+cell": {
     "cellMetadata": {
      "byteLimit": 2048000,
      "rowLimit": 10000
     },
     "inputWidgets": {},
     "nuid": "dd1e87ce-5215-4688-a804-91ee9a777871",
     "showTitle": false,
     "tableResultSettingsMap": {},
     "title": ""
    }
   },
   "outputs": [],
   "source": [
    "#df_spark.columns"
   ]
  },
  {
   "cell_type": "code",
   "execution_count": 0,
   "metadata": {
    "application/vnd.databricks.v1+cell": {
     "cellMetadata": {
      "byteLimit": 2048000,
      "rowLimit": 10000
     },
     "inputWidgets": {},
     "nuid": "5c03afd2-e814-49bf-b27d-f4c51d404b93",
     "showTitle": false,
     "tableResultSettingsMap": {},
     "title": ""
    }
   },
   "outputs": [],
   "source": [
    "df = df_spark.toPandas()"
   ]
  },
  {
   "cell_type": "code",
   "execution_count": 0,
   "metadata": {
    "application/vnd.databricks.v1+cell": {
     "cellMetadata": {
      "byteLimit": 2048000,
      "rowLimit": 10000
     },
     "inputWidgets": {},
     "nuid": "4c5ff0b5-f714-42a6-90f2-23eca16ec1f4",
     "showTitle": false,
     "tableResultSettingsMap": {},
     "title": ""
    }
   },
   "outputs": [],
   "source": [
    "df = pd.read_csv(\"/Volumes/workspace/default/sports/20240301-AllenField-1.csv\")"
   ]
  },
  {
   "cell_type": "code",
   "execution_count": 0,
   "metadata": {
    "application/vnd.databricks.v1+cell": {
     "cellMetadata": {
      "byteLimit": 2048000,
      "rowLimit": 10000
     },
     "inputWidgets": {},
     "nuid": "d3c8891e-ff14-4821-9823-bcbc8565716d",
     "showTitle": false,
     "tableResultSettingsMap": {},
     "title": ""
    }
   },
   "outputs": [],
   "source": [
    "df[['Batter', 'Inning', 'Top/Bottom', 'Outs', 'Balls', 'Strikes', 'OutsOnPlay', 'PitchCall', 'PlayResult', 'RunsScored', 'KorBB']][:10]"
   ]
  },
  {
   "cell_type": "code",
   "execution_count": 0,
   "metadata": {
    "application/vnd.databricks.v1+cell": {
     "cellMetadata": {
      "byteLimit": 2048000,
      "rowLimit": 10000
     },
     "inputWidgets": {},
     "nuid": "09506ca1-3581-4ad1-acd5-18b637c2fddc",
     "showTitle": false,
     "tableResultSettingsMap": {},
     "title": ""
    }
   },
   "outputs": [],
   "source": [
    "#setting the initial values\n",
    "df['b1'] = 0\n",
    "df['b2'] = 0\n",
    "df['b3'] = 0\n",
    "df['b1Runner'] = None\n",
    "df['b2Runner'] = None\n",
    "df['b3Runner'] = None\n",
    "df['Event'] = None"
   ]
  },
  {
   "cell_type": "code",
   "execution_count": 0,
   "metadata": {
    "application/vnd.databricks.v1+cell": {
     "cellMetadata": {
      "byteLimit": 2048000,
      "rowLimit": 10000
     },
     "inputWidgets": {},
     "nuid": "47e42211-85b9-493c-8b38-cd2f36cc763f",
     "showTitle": false,
     "tableResultSettingsMap": {},
     "title": ""
    }
   },
   "outputs": [],
   "source": [
    "def resetRunners(df, ind):\n",
    "    df.loc[ind, 'b1'] = 0\n",
    "    df.loc[ind, 'b2'] = 0\n",
    "    df.loc[ind, 'b3'] = 0\n",
    "    df.loc[ind, 'b1Runner'] = None\n",
    "    df.loc[ind, 'b2Runner'] = None\n",
    "    df.loc[ind, 'b3Runner'] = None\n",
    "\n",
    "def pushDown(df, ind):\n",
    "    #copy from previous row\n",
    "    df.loc[ind+1, 'b1'] = df.loc[ind, 'b1']\n",
    "    df.loc[ind+1, 'b2'] = df.loc[ind, 'b2']\n",
    "    df.loc[ind+1, 'b3'] = df.loc[ind, 'b3']\n",
    "    df.loc[ind+1, 'b1Runner'] = df.loc[ind, 'b1Runner']\n",
    "    df.loc[ind+1, 'b2Runner'] = df.loc[ind, 'b2Runner']\n",
    "    df.loc[ind+1, 'b3Runner'] = df.loc[ind, 'b3Runner']\n",
    "\n",
    "def singleForced(df, ind):\n",
    "    #updates the next row alone\n",
    "    df.loc[ind+1, 'b1'] = 1\n",
    "    df.loc[ind+1, 'b1Runner'] = df.loc[ind, 'Batter']\n",
    "\n",
    "    if df.loc[ind, 'b1'] == 1:\n",
    "        df.loc[ind+1, 'b2'] = 1\n",
    "        df.loc[ind+1, 'b2Runner'] = df.loc[ind, 'b1Runner']\n",
    "                \n",
    "        if df.loc[ind, 'b2'] == 1:\n",
    "            df.loc[ind+1, 'b3'] = 1\n",
    "            df.loc[ind+1, 'b3Runner'] = df.loc[ind, 'b2Runner']\n",
    "\n",
    "            if df.loc[ind, 'b3'] == 1:\n",
    "                print(df.loc[ind, 'b3Runner'], \" scored at \", ind)\n",
    "\n",
    "def single(df, ind, sacrifice=False):\n",
    "    #updates the next row alone\n",
    "    runs_scored = 0\n",
    "    if not sacrifice:\n",
    "        df.loc[ind+1, 'b1'] = 1\n",
    "        df.loc[ind+1, 'b1Runner'] = df.loc[ind, 'Batter']\n",
    "\n",
    "    if df.loc[ind, 'b1'] == 1:\n",
    "        df.loc[ind+1, 'b2'] = 1\n",
    "        df.loc[ind+1, 'b2Runner'] = df.loc[ind, 'b1Runner']\n",
    "                \n",
    "    if df.loc[ind, 'b2'] == 1:\n",
    "        df.loc[ind+1, 'b3'] = 1\n",
    "        df.loc[ind+1, 'b3Runner'] = df.loc[ind, 'b2Runner']\n",
    "\n",
    "    if df.loc[ind, 'b3'] == 1:\n",
    "        runs_scored += 1\n",
    "        print(df.loc[ind, 'b3Runner'], \" scored at \", ind)\n",
    "    \n",
    "    if runs_scored != df.loc[ind, 'RunsScored']:\n",
    "        print(\"***corretions to be made at \", ind)\n",
    "        print(\"***b# might have ran bases/ need to consider outs on play\")\n",
    "    \n",
    "    if df.loc[ind, 'OutsOnPlay'] != 0:\n",
    "        print(df.loc[ind, 'OutsOnPlay'], \" base runners are out at \", ind)\n",
    "\n",
    "def double(df, ind):\n",
    "    runs_scored = 0\n",
    "    df.loc[ind+1, 'b2'] = 1\n",
    "    df.loc[ind+1, 'b2Runner'] = df.loc[ind, 'Batter']\n",
    "\n",
    "    if df.loc[ind, 'b1'] == 1:\n",
    "        df.loc[ind+1, 'b3'] = 1\n",
    "        df.loc[ind+1, 'b3Runner'] = df.loc[ind, 'b1Runner']\n",
    "\n",
    "    if df.loc[ind, 'b2'] == 1:\n",
    "        print(df.loc[ind, 'b2Runner'], \" scored at \", ind)\n",
    "        runs_scored += 1\n",
    "\n",
    "    if df.loc[ind, 'b3'] == 1:\n",
    "        print(df.loc[ind, 'b3Runner'], \" scored at \", ind)\n",
    "        runs_scored += 1\n",
    "    \n",
    "    if runs_scored != df.loc[ind, 'RunsScored']:\n",
    "        print(\"***corretions to be made at \", ind)\n",
    "        print(\"***b1 might have ran 3 bases/ need to consider outs on play\")\n",
    "\n",
    "    if df.loc[ind, 'OutsOnPlay'] != 0:\n",
    "        print(\"***\", df.loc[ind, 'OutsOnPlay'], \" base runner are out at \", ind)\n",
    "\n",
    "\n",
    "def triple(df, ind):\n",
    "    runs_scored = 0\n",
    "    df.loc[ind+1, 'b3'] = 1\n",
    "    df.loc[ind+1, 'b3Runner'] = df.loc[ind, 'Batter']\n",
    "\n",
    "    if df.loc[ind, 'b1'] == 1:\n",
    "        print(df.loc[ind, 'b1Runner'], \" scored at \", ind)\n",
    "        runs_scored += 1\n",
    "\n",
    "    if df.loc[ind, 'b2'] == 1:\n",
    "        print(df.loc[ind, 'b2Runner'], \" scored at \", ind)\n",
    "        runs_scored += 1\n",
    "\n",
    "    if df.loc[ind, 'b3'] == 1:\n",
    "        print(df.loc[ind, 'b3Runner'], \" scored at \", ind)\n",
    "        runs_scored += 1\n",
    "    \n",
    "    if runs_scored != df.loc[ind, 'RunsScored']:\n",
    "        print(\"***corretions to be made at \", ind)\n",
    "        print(\"***need to consider outs on play\")\n",
    "\n",
    "    if df.loc[ind, 'OutsOnPlay'] != 0:\n",
    "        print(\"***\", df.loc[ind, 'OutsOnPlay'], \" base runner are out at \", ind)\n",
    "            "
   ]
  },
  {
   "cell_type": "code",
   "execution_count": 0,
   "metadata": {
    "application/vnd.databricks.v1+cell": {
     "cellMetadata": {
      "byteLimit": 2048000,
      "rowLimit": 10000
     },
     "inputWidgets": {},
     "nuid": "cd436133-2eae-4b43-a999-0e6c5b4280ab",
     "showTitle": false,
     "tableResultSettingsMap": {},
     "title": ""
    }
   },
   "outputs": [],
   "source": [
    "#setting the initial values\n",
    "df['b1'] = 0\n",
    "df['b2'] = 0\n",
    "df['b3'] = 0\n",
    "df['b1Runner'] = None\n",
    "df['b2Runner'] = None\n",
    "df['b3Runner'] = None\n",
    "\n",
    "for ind in df.index[1:]:\n",
    "    #inning change\n",
    "    #this can be removed if I dont update every row when base runner proceeds\n",
    "    #if this case no update\n",
    "    if df.loc[ind, 'Top/Bottom'] != df.loc[ind-1, 'Top/Bottom'] \\\n",
    "    or df.loc[ind-1, 'Inning'] != df.loc[ind, 'Inning']:\n",
    "        print('\\tInning change at', ind)\n",
    "        resetRunners(df, ind)\n",
    "\n",
    "    #individual cases of runner moving\n",
    "    else:\n",
    "        #walk\n",
    "        if df.loc[ind, 'KorBB'] == 'Walk':\n",
    "            print(\"walk at \", ind)\n",
    "            df.loc[ind, 'Event'] = 'Walk'\n",
    "            singleForced(df, ind)\n",
    "        #HBP\n",
    "        elif df.loc[ind, 'PitchCall'] == 'HitByPitch':\n",
    "            print(\"HBP at \", ind)\n",
    "            df.loc[ind, 'Event'] = 'HBP'\n",
    "            singleForced(df, ind)\n",
    "        #single\n",
    "        elif df.loc[ind, 'PlayResult'] == 'Single':\n",
    "            print(\"single at \", ind)\n",
    "            df.loc[ind, 'Event'] = 'Single'\n",
    "            single(df, ind)\n",
    "        elif df.loc[ind, 'PlayResult'] == 'Sacrifice':\n",
    "            print(\"Sacrifice at \", ind)\n",
    "            df.loc[ind, 'Event'] = 'Sacrifice'\n",
    "            single(df, ind, sacrifice=True)\n",
    "\n",
    "        #double\n",
    "        elif df.loc[ind, 'PlayResult'] == 'Double':\n",
    "            print(\"double at \", ind)\n",
    "            df.loc[ind, 'Event'] = 'Double'\n",
    "            double(df, ind)\n",
    "\n",
    "        #triple\n",
    "        elif df.loc[ind, 'PlayResult'] == 'Triple':\n",
    "            print(\"triple at \", ind)\n",
    "            df.loc[ind, 'Event'] = 'Triple'\n",
    "            triple(df, ind)\n",
    "        \n",
    "        #else\n",
    "        else:\n",
    "            pushDown(df, ind)"
   ]
  },
  {
   "cell_type": "code",
   "execution_count": 0,
   "metadata": {
    "application/vnd.databricks.v1+cell": {
     "cellMetadata": {
      "byteLimit": 2048000,
      "rowLimit": 10000
     },
     "inputWidgets": {},
     "nuid": "de9f283a-89cd-4290-b76c-ac0807385f08",
     "showTitle": false,
     "tableResultSettingsMap": {},
     "title": ""
    }
   },
   "outputs": [],
   "source": [
    "df[['Batter', 'b1', 'b2', 'b3', 'b1Runner', 'b2Runner', 'b3Runner', 'OutsOnPlay', 'Event', 'RunsScored', 'KorBB']][10:60]"
   ]
  },
  {
   "cell_type": "code",
   "execution_count": 0,
   "metadata": {
    "application/vnd.databricks.v1+cell": {
     "cellMetadata": {},
     "inputWidgets": {},
     "nuid": "f11d63a6-3e89-457c-9633-7f5858a5b20d",
     "showTitle": false,
     "tableResultSettingsMap": {},
     "title": ""
    }
   },
   "outputs": [],
   "source": []
  }
 ],
 "metadata": {
  "application/vnd.databricks.v1+notebook": {
   "computePreferences": null,
   "dashboards": [],
   "environmentMetadata": {
    "base_environment": "",
    "environment_version": "2"
   },
   "inputWidgetPreferences": null,
   "language": "python",
   "notebookMetadata": {
    "mostRecentlyExecutedCommandWithImplicitDF": {
     "commandId": -1,
     "dataframes": [
      "_sqldf"
     ]
    },
    "pythonIndentUnit": 4
   },
   "notebookName": "BaseRunners",
   "widgets": {}
  },
  "language_info": {
   "name": "python"
  }
 },
 "nbformat": 4,
 "nbformat_minor": 0
}
