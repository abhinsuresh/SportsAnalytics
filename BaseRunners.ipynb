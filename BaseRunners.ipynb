{
 "cells": [
  {
   "cell_type": "code",
   "execution_count": 0,
   "metadata": {
    "application/vnd.databricks.v1+cell": {
     "cellMetadata": {
      "byteLimit": 2048000,
      "rowLimit": 10000
     },
     "inputWidgets": {},
     "nuid": "e69b71e7-7876-4021-a3a2-cf7729e308de",
     "showTitle": false,
     "tableResultSettingsMap": {},
     "title": ""
    }
   },
   "outputs": [],
   "source": [
    "import pandas as pd\n",
    "import io\n",
    "import glob"
   ]
  },
  {
   "cell_type": "code",
   "execution_count": 0,
   "metadata": {
    "application/vnd.databricks.v1+cell": {
     "cellMetadata": {
      "byteLimit": 2048000,
      "rowLimit": 10000
     },
     "inputWidgets": {},
     "nuid": "81d3ed5c-5f8b-43cd-901c-8b62f791394d",
     "showTitle": true,
     "tableResultSettingsMap": {},
     "title": "List All CSV Files in Sports Directory"
    }
   },
   "outputs": [],
   "source": [
    "#wont work\n",
    "check = pd.read_csv(\"/Volumes/workspace/default/sports/20240301-AllenField-1.csv\")\n",
    "#display(df)\n",
    "csv_files = glob.glob(\"/Volumes/workspace/default/sports/*.csv\")\n",
    "print(csv_files)\n",
    "#pwd"
   ]
  },
  {
   "cell_type": "code",
   "execution_count": 0,
   "metadata": {
    "application/vnd.databricks.v1+cell": {
     "cellMetadata": {
      "byteLimit": 2048000,
      "rowLimit": 10000
     },
     "inputWidgets": {},
     "nuid": "dd1e87ce-5215-4688-a804-91ee9a777871",
     "showTitle": false,
     "tableResultSettingsMap": {},
     "title": ""
    }
   },
   "outputs": [],
   "source": [
    "#df_spark = spark.read.csv(\"/Volumes/workspace/default/sports/*.csv\", inferSchema=True, header=True)\n",
    "#df_spark.columns\n",
    "#df = df_spark.toPandas()"
   ]
  },
  {
   "cell_type": "code",
   "execution_count": 0,
   "metadata": {
    "application/vnd.databricks.v1+cell": {
     "cellMetadata": {
      "byteLimit": 2048000,
      "rowLimit": 10000
     },
     "inputWidgets": {},
     "nuid": "4c5ff0b5-f714-42a6-90f2-23eca16ec1f4",
     "showTitle": false,
     "tableResultSettingsMap": {},
     "title": ""
    }
   },
   "outputs": [],
   "source": [
    "df = pd.read_csv(\"/Volumes/workspace/default/sports/20240301-AllenField-1.csv\")"
   ]
  },
  {
   "cell_type": "code",
   "execution_count": 0,
   "metadata": {
    "application/vnd.databricks.v1+cell": {
     "cellMetadata": {
      "byteLimit": 2048000,
      "rowLimit": 10000
     },
     "inputWidgets": {},
     "nuid": "d3c8891e-ff14-4821-9823-bcbc8565716d",
     "showTitle": false,
     "tableResultSettingsMap": {},
     "title": ""
    }
   },
   "outputs": [],
   "source": [
    "df[['Batter', 'Inning', 'Top/Bottom', 'Outs', 'Balls', 'Strikes', 'OutsOnPlay', 'PitchCall', 'PlayResult', 'RunsScored', 'KorBB']][:10]"
   ]
  },
  {
   "cell_type": "code",
   "execution_count": 0,
   "metadata": {
    "application/vnd.databricks.v1+cell": {
     "cellMetadata": {
      "byteLimit": 2048000,
      "rowLimit": 10000
     },
     "inputWidgets": {},
     "nuid": "09506ca1-3581-4ad1-acd5-18b637c2fddc",
     "showTitle": false,
     "tableResultSettingsMap": {},
     "title": ""
    }
   },
   "outputs": [],
   "source": [
    "#setting the initial values\n",
    "df['b1'] = 0\n",
    "df['b2'] = 0\n",
    "df['b3'] = 0\n",
    "df['b1Runner'] = None\n",
    "df['b2Runner'] = None\n",
    "df['b3Runner'] = None\n",
    "df['Event'] = None\n",
    "df['Error'] = '-'"
   ]
  },
  {
   "cell_type": "code",
   "execution_count": 0,
   "metadata": {
    "application/vnd.databricks.v1+cell": {
     "cellMetadata": {
      "byteLimit": 2048000,
      "rowLimit": 10000
     },
     "inputWidgets": {},
     "nuid": "cddd385b-e887-4fc9-b2ac-7ab15426fb73",
     "showTitle": false,
     "tableResultSettingsMap": {},
     "title": ""
    }
   },
   "outputs": [],
   "source": [
    "base = 3\n",
    "while base > 0:\n",
    "    print(df.loc[10,'b'+str(base)+'Runner'], 'b'+str(base))\n",
    "    base -= 1\n"
   ]
  },
  {
   "cell_type": "code",
   "execution_count": 0,
   "metadata": {
    "application/vnd.databricks.v1+cell": {
     "cellMetadata": {
      "byteLimit": 2048000,
      "rowLimit": 10000
     },
     "inputWidgets": {},
     "nuid": "47e42211-85b9-493c-8b38-cd2f36cc763f",
     "showTitle": true,
     "tableResultSettingsMap": {},
     "title": "Runner and Scoring Functions"
    }
   },
   "outputs": [],
   "source": [
    "def resetRunners(df, ind):\n",
    "    # make changes to ind\n",
    "    df.loc[ind, 'b1'] = 0\n",
    "    df.loc[ind, 'b2'] = 0\n",
    "    df.loc[ind, 'b3'] = 0\n",
    "    df.loc[ind, 'b1Runner'] = None\n",
    "    df.loc[ind, 'b2Runner'] = None\n",
    "    df.loc[ind, 'b3Runner'] = None\n",
    "\n",
    "#functions that update the next\n",
    "def pushDown(df, ind):\n",
    "    # make changes to ind+1\n",
    "    # copy from previous row\n",
    "    df.loc[ind+1, 'b1'] = df.loc[ind, 'b1']\n",
    "    df.loc[ind+1, 'b2'] = df.loc[ind, 'b2']\n",
    "    df.loc[ind+1, 'b3'] = df.loc[ind, 'b3']\n",
    "    df.loc[ind+1, 'b1Runner'] = df.loc[ind, 'b1Runner']\n",
    "    df.loc[ind+1, 'b2Runner'] = df.loc[ind, 'b2Runner']\n",
    "    df.loc[ind+1, 'b3Runner'] = df.loc[ind, 'b3Runner']\n",
    "\n",
    "def singleForced(df, ind):\n",
    "    # make changes to ind+1\n",
    "    # single forced for walk and HBP\n",
    "    df.loc[ind+1, 'b1'] = 1\n",
    "    df.loc[ind+1, 'b1Runner'] = df.loc[ind, 'Batter']\n",
    "\n",
    "    if df.loc[ind, 'b1'] == 1:\n",
    "        df.loc[ind+1, 'b2'] = 1\n",
    "        df.loc[ind+1, 'b2Runner'] = df.loc[ind, 'b1Runner']\n",
    "                \n",
    "        if df.loc[ind, 'b2'] == 1:\n",
    "            df.loc[ind+1, 'b3'] = 1\n",
    "            df.loc[ind+1, 'b3Runner'] = df.loc[ind, 'b2Runner']\n",
    "\n",
    "            if df.loc[ind, 'b3'] == 1:\n",
    "                print(df.loc[ind, 'b3Runner'], \" scored at \", ind)\n",
    "\n",
    "def makeCorrections(df, ind, runs_scored):\n",
    "    # make corrections to ind+1\n",
    "    # how many base runner to remove depend on runs scored and outs on play\n",
    "    # sacrifice batter removed from base 1\n",
    "    # runs_scored - df.loc[ind, 'RunsScored'] + OutsOnPlay - scarifice\n",
    "    # always done after updating the next row with changes\n",
    "    count_base = df.loc[ind, 'b1'] + df.loc[ind, 'b2'] + df.loc[ind, 'b3']\n",
    "    \n",
    "    diff = df.loc[ind, 'RunsScored'] - runs_scored + df.loc[ind, 'OutsOnPlay']\n",
    "    if df.loc[ind, 'PlayResult'] == 'Sacrifice':\n",
    "        diff -= 1\n",
    "        df.loc[ind+1, 'b1'] = 0\n",
    "        df.loc[ind+1, 'b1Runner'] = None\n",
    "\n",
    "    #basing on the assumption that base runner from base 3 are removed in order\n",
    "    if diff > 0:\n",
    "        print(\"***Corrections made for \", diff, \" base runners at \", ind, \" count \", count_base)\n",
    "        df.loc[ind, 'Error'] = 'error'\n",
    "        base = 3\n",
    "        while diff > 0:\n",
    "            if base < 1:\n",
    "                print(\"*** error in calculation at \", ind)\n",
    "            if df.loc[ind+1, 'b'+str(base)] == 1:\n",
    "                df.loc[ind+1, 'b'+str(base)] = 0\n",
    "                df.loc[ind+1, 'b'+str(base)+'Runner'] = None\n",
    "                diff -= 1\n",
    "            base -= 1\n",
    "    \n",
    "\n",
    "def single(df, ind):\n",
    "    # make changes to ind+1\n",
    "    # single playresult and sacrifise\n",
    "    runs_scored = 0\n",
    "\n",
    "    df.loc[ind+1, 'b1'] = 1\n",
    "    df.loc[ind+1, 'b1Runner'] = df.loc[ind, 'Batter']\n",
    "\n",
    "    if df.loc[ind, 'b1'] == 1:\n",
    "        df.loc[ind+1, 'b2'] = 1\n",
    "        df.loc[ind+1, 'b2Runner'] = df.loc[ind, 'b1Runner']\n",
    "                \n",
    "    if df.loc[ind, 'b2'] == 1:\n",
    "        df.loc[ind+1, 'b3'] = 1\n",
    "        df.loc[ind+1, 'b3Runner'] = df.loc[ind, 'b2Runner']\n",
    "\n",
    "    if df.loc[ind, 'b3'] == 1:\n",
    "        runs_scored += 1\n",
    "        print(df.loc[ind, 'b3Runner'], \" scored at \", ind)\n",
    "    \n",
    "    makeCorrections(df, ind, runs_scored)\n",
    "    \n",
    "def double(df, ind):\n",
    "    # make changes to ind+1\n",
    "    runs_scored = 0\n",
    "    df.loc[ind+1, 'b2'] = 1\n",
    "    df.loc[ind+1, 'b2Runner'] = df.loc[ind, 'Batter']\n",
    "\n",
    "    if df.loc[ind, 'b1'] == 1:\n",
    "        df.loc[ind+1, 'b3'] = 1\n",
    "        df.loc[ind+1, 'b3Runner'] = df.loc[ind, 'b1Runner']\n",
    "\n",
    "    if df.loc[ind, 'b2'] == 1:\n",
    "        print(df.loc[ind, 'b2Runner'], \" scored at \", ind)\n",
    "        runs_scored += 1\n",
    "\n",
    "    if df.loc[ind, 'b3'] == 1:\n",
    "        print(df.loc[ind, 'b3Runner'], \" scored at \", ind)\n",
    "        runs_scored += 1\n",
    "    \n",
    "    makeCorrections(df, ind, runs_scored)\n",
    "\n",
    "def homeRun(df, ind):\n",
    "    # make changes to ind+1\n",
    "    runs_scored = 1 + df.loc[ind, 'b1'] + df.loc[ind, 'b2'] + df.loc[ind, 'b3']\n",
    "    print(\"run counted \", runs_scored, \" check \", df.loc[ind, \"RunsScored\"])\n",
    "    \n",
    "    resetRunners(df, ind+1)\n",
    "    \n",
    "\n",
    "\n",
    "def triple(df, ind):\n",
    "    # make changes to ind+1\n",
    "    runs_scored = 0\n",
    "    df.loc[ind+1, 'b3'] = 1\n",
    "    df.loc[ind+1, 'b3Runner'] = df.loc[ind, 'Batter']\n",
    "\n",
    "    if df.loc[ind, 'b1'] == 1:\n",
    "        print(df.loc[ind, 'b1Runner'], \" scored at \", ind)\n",
    "        runs_scored += 1\n",
    "\n",
    "    if df.loc[ind, 'b2'] == 1:\n",
    "        print(df.loc[ind, 'b2Runner'], \" scored at \", ind)\n",
    "        runs_scored += 1\n",
    "\n",
    "    if df.loc[ind, 'b3'] == 1:\n",
    "        print(df.loc[ind, 'b3Runner'], \" scored at \", ind)\n",
    "        runs_scored += 1\n",
    "    \n",
    "    makeCorrections(df, ind, runs_scored)\n"
   ]
  },
  {
   "cell_type": "code",
   "execution_count": 0,
   "metadata": {
    "application/vnd.databricks.v1+cell": {
     "cellMetadata": {
      "byteLimit": 2048000,
      "rowLimit": 10000
     },
     "inputWidgets": {},
     "nuid": "cd436133-2eae-4b43-a999-0e6c5b4280ab",
     "showTitle": true,
     "tableResultSettingsMap": {},
     "title": "Baseball Play Analysis and Event Updates"
    }
   },
   "outputs": [],
   "source": [
    "#setting the initial values\n",
    "df['b1'] = 0\n",
    "df['b2'] = 0\n",
    "df['b3'] = 0\n",
    "df['b1Runner'] = None\n",
    "df['b2Runner'] = None\n",
    "df['b3Runner'] = None\n",
    "df['Error'] = '-'\n",
    "\n",
    "for ind in df.index[1:]:\n",
    "\n",
    "    #recording the event\n",
    "    if df.loc[ind, 'PitchCall'] == 'InPlay':\n",
    "        df.loc[ind, 'Event'] = 'InPlay'\n",
    "    if df.loc[ind, 'PlayResult'] == 'Out':\n",
    "        df.loc[ind, 'Event'] += 'Out'\n",
    "    if df.loc[ind, 'KorBB'] == 'Strikeout':\n",
    "        df.loc[ind, 'Event'] = 'Strikeout'\n",
    "\n",
    "    #inning change\n",
    "    #updating the current row if change in inning\n",
    "    if df.loc[ind, 'Top/Bottom'] != df.loc[ind-1, 'Top/Bottom'] \\\n",
    "    or df.loc[ind-1, 'Inning'] != df.loc[ind, 'Inning']:\n",
    "        print('\\tInning change at', ind)\n",
    "        resetRunners(df, ind)\n",
    "\n",
    "    #individual cases of runner moving update the next row\n",
    "    #walk\n",
    "    if df.loc[ind, 'KorBB'] == 'Walk':\n",
    "        print(\"walk at \", ind)\n",
    "        df.loc[ind, 'Event'] = 'Walk'\n",
    "        singleForced(df, ind)\n",
    "        #HBP\n",
    "    elif df.loc[ind, 'PitchCall'] == 'HitByPitch':\n",
    "        print(\"HBP at \", ind)\n",
    "        df.loc[ind, 'Event'] = 'HBP'\n",
    "        singleForced(df, ind)\n",
    "    #single\n",
    "    elif df.loc[ind, 'PlayResult'] == 'Single':\n",
    "        print(\"single at \", ind)\n",
    "        df.loc[ind, 'Event'] = 'Single'\n",
    "        single(df, ind)\n",
    "    elif df.loc[ind, 'PlayResult'] == 'Sacrifice':\n",
    "        print(\"Sacrifice at \", ind)\n",
    "        df.loc[ind, 'Event'] = 'Sacrifice'\n",
    "        single(df, ind)\n",
    "\n",
    "    #double\n",
    "    elif df.loc[ind, 'PlayResult'] == 'Double':\n",
    "        print(\"double at \", ind)\n",
    "        df.loc[ind, 'Event'] = 'Double'\n",
    "        double(df, ind)\n",
    "\n",
    "    #triple\n",
    "    elif df.loc[ind, 'PlayResult'] == 'Triple':\n",
    "        print(\"triple at \", ind)\n",
    "        df.loc[ind, 'Event'] = 'Triple'\n",
    "        triple(df, ind)\n",
    "\n",
    "    elif df.loc[ind, 'PlayResult'] == 'HomeRun':\n",
    "        print(\"home run at \", ind)\n",
    "        df.loc[ind, 'Event'] = 'HomeRun'\n",
    "        homeRun(df, ind)\n",
    "\n",
    "    #outs on play occured without any play being made\n",
    "    #pushdown + makeing corrections so as to update runner for next row by makeCorrections    \n",
    "    elif df.loc[ind, 'OutsOnPlay'] > 0 and df.loc[ind, 'PlayResult'] != 'Out':\n",
    "        print(\"outs on play at \", ind)\n",
    "        df.loc[ind, 'Event'] = 'OutsOnPlay'\n",
    "        pushDown(df, ind)\n",
    "        makeCorrections(df, ind, 0)\n",
    "        \n",
    "    #else\n",
    "    #push down the base runners to next row\n",
    "    else:\n",
    "        pushDown(df, ind)"
   ]
  },
  {
   "cell_type": "code",
   "execution_count": 0,
   "metadata": {
    "application/vnd.databricks.v1+cell": {
     "cellMetadata": {
      "byteLimit": 2048000,
      "rowLimit": 10000
     },
     "inputWidgets": {},
     "nuid": "de9f283a-89cd-4290-b76c-ac0807385f08",
     "showTitle": true,
     "tableResultSettingsMap": {},
     "title": "Batter and Runner Details from Play 50 to 100"
    }
   },
   "outputs": [],
   "source": [
    "df[['Batter', 'b1', 'b2', 'b3', 'b1Runner', 'b2Runner', 'b3Runner', 'OutsOnPlay', 'Event', 'RunsScored', 'Error']][120:150]"
   ]
  },
  {
   "cell_type": "code",
   "execution_count": 0,
   "metadata": {
    "application/vnd.databricks.v1+cell": {
     "cellMetadata": {},
     "inputWidgets": {},
     "nuid": "62cc2c0c-8097-4285-9348-27eb18045e3f",
     "showTitle": false,
     "tableResultSettingsMap": {},
     "title": ""
    }
   },
   "outputs": [],
   "source": []
  }
 ],
 "metadata": {
  "application/vnd.databricks.v1+notebook": {
   "computePreferences": {
    "hardware": {
     "accelerator": null,
     "gpuPoolId": null,
     "memory": null
    }
   },
   "dashboards": [],
   "environmentMetadata": {
    "base_environment": "",
    "environment_version": "2"
   },
   "inputWidgetPreferences": null,
   "language": "python",
   "notebookMetadata": {
    "mostRecentlyExecutedCommandWithImplicitDF": {
     "commandId": -1,
     "dataframes": [
      "_sqldf"
     ]
    },
    "pythonIndentUnit": 4
   },
   "notebookName": "BaseRunners",
   "widgets": {}
  },
  "language_info": {
   "name": "python"
  }
 },
 "nbformat": 4,
 "nbformat_minor": 0
}
